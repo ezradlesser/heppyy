{
 "cells": [
  {
   "cell_type": "code",
   "execution_count": null,
   "id": "2a74af52-d490-47bc-87ce-e0faa287b56c",
   "metadata": {},
   "outputs": [],
   "source": [
    "import yasp"
   ]
  },
  {
   "cell_type": "code",
   "execution_count": null,
   "id": "257493d5-65e7-4278-80fc-188f15948d26",
   "metadata": {},
   "outputs": [],
   "source": [
    "import numpy as np\n",
    "import array\n",
    "\n",
    "\n",
    "import heppyy.util.fastjet_cppyy\n",
    "import heppyy.util.heppyy_cppyy\n",
    "\n",
    "from cppyy.gbl import fastjet as fj\n",
    "from cppyy.gbl.std import vector\n",
    "from cppyy.gbl import EnergyCorrelators\n",
    "\n",
    "from heppyy.util.mputils import logbins\n",
    "from heppyy.util.treewriter import RTreeWriter\n"
   ]
  },
  {
   "cell_type": "code",
   "execution_count": null,
   "id": "19e91521-6e99-40c0-97fd-cf68b7f005b7",
   "metadata": {},
   "outputs": [],
   "source": [
    "pythia_config = [\n",
    "    'HardQCD:all = on',\n",
    "    'Next:numberCount = 0',\n",
    "    'Next:numberShowEvent = 0',\n",
    "    'Next:numberShowInfo = 0',\n",
    "    'Next:numberShowProcess = 0',\n",
    "    'PhaseSpace:pTHatMin = 100.00000'\n",
    "]\n",
    "\n",
    "stable_charm = False\n",
    "if stable_charm:\n",
    "\tfor c in [411,413,421,423,431,433]:\n",
    "\t\tpythia_config.append(f'{c}:mayDecay=false')\n",
    "\t\tpythia_config.append(f'-{c}:mayDecay=false')\n",
    "\n",
    "stable_beauty = False\n",
    "if stable_beauty:\n",
    "\tfor c in [511,513,521,523,531,533]:\n",
    "\t\tpythia_config.append(f'{c}:mayDecay=false')\n",
    "\t\tpythia_config.append(f'-{c}:mayDecay=false')\n"
   ]
  },
  {
   "cell_type": "code",
   "execution_count": null,
   "id": "614cb4e1-d496-444c-aaaa-0044f242b3f0",
   "metadata": {},
   "outputs": [],
   "source": [
    "import heppyy.util.pythia8_cppyy\n",
    "from cppyy.gbl import Pythia8"
   ]
  },
  {
   "cell_type": "code",
   "execution_count": null,
   "id": "696c1598-29c0-4492-90ba-d92e8a796977",
   "metadata": {},
   "outputs": [],
   "source": [
    "pythia = Pythia8.Pythia()\n",
    "_ = [pythia.readString(s) for s in pythia_config]"
   ]
  },
  {
   "cell_type": "code",
   "execution_count": null,
   "id": "d6a153c6-fb57-4b68-9f2c-006db25b1046",
   "metadata": {},
   "outputs": [],
   "source": [
    "pythia.init()"
   ]
  },
  {
   "cell_type": "code",
   "execution_count": null,
   "id": "622b21f4-f616-40bb-853f-351c2bc031f9",
   "metadata": {},
   "outputs": [],
   "source": [
    "jet_R0 = 0.4\n",
    "jet_etamax = 2.\n",
    "jet_ptmin = 100.\n",
    "jet_ptmax = 120.\n",
    "\n",
    "hadron_etamax = jet_etamax + jet_R0 * 1.05\n",
    "\n",
    "jet_def = fj.JetDefinition(fj.antikt_algorithm, jet_R0)\n",
    "jet_selector = fj.SelectorPtMin(jet_ptmin) * fj.SelectorPtMax(jet_ptmax) * fj.SelectorAbsEtaMax(hadron_etamax - jet_R0 * 1.05)\n",
    "jet_def_lund = fj.JetDefinition(fj.cambridge_algorithm, 1.0)\n",
    "lund_gen = fj.contrib.LundGenerator(jet_def_lund)\n"
   ]
  },
  {
   "cell_type": "code",
   "execution_count": null,
   "id": "ce90847f-7f5b-4a4e-aa2b-5959f93a965b",
   "metadata": {},
   "outputs": [],
   "source": [
    "nevents = 1000\n",
    "\n",
    "from tqdm.notebook import tqdm\n",
    "all_jets = []\n",
    "for i in tqdm(range(nevents)):\n",
    "    if not pythia.next():\n",
    "        continue\n",
    "    # parts = vector[fj.PseudoJet]([fj.PseudoJet(p.px(), p.py(), p.pz(), p.e()) for p in pythia.event if p.isFinal() and p.isCharged()])\n",
    "    parts = vector[fj.PseudoJet]([fj.PseudoJet(p.px(), p.py(), p.pz(), p.e()) for p in pythia.event if p.isFinal()])\n",
    "    jets = jet_selector(jet_def(parts))\n",
    "    for j in jets:\n",
    "        all_jets.append(j)"
   ]
  },
  {
   "cell_type": "code",
   "execution_count": null,
   "id": "3de04e73-3335-4dc4-a43e-3d07080dee05",
   "metadata": {},
   "outputs": [],
   "source": [
    "len(all_jets)"
   ]
  },
  {
   "cell_type": "code",
   "execution_count": null,
   "id": "c91a787d-6bcf-4512-959e-cd9b5d35acff",
   "metadata": {},
   "outputs": [],
   "source": []
  }
 ],
 "metadata": {
  "kernelspec": {
   "display_name": "Python 3 (ipykernel)",
   "language": "python",
   "name": "python3"
  },
  "language_info": {
   "codemirror_mode": {
    "name": "ipython",
    "version": 3
   },
   "file_extension": ".py",
   "mimetype": "text/x-python",
   "name": "python",
   "nbconvert_exporter": "python",
   "pygments_lexer": "ipython3",
   "version": "3.11.4"
  }
 },
 "nbformat": 4,
 "nbformat_minor": 5
}
